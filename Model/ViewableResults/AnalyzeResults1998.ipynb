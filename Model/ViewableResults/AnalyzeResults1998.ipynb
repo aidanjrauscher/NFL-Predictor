{
 "cells": [
  {
   "cell_type": "code",
   "execution_count": null,
   "metadata": {},
   "outputs": [],
   "source": [
    "#This is our first prediction model results using just season 1997 as input \n",
    "#And predicting 1998 season results!\n",
    "#For this example we only used the stats for Average Points, Average Yards,\n",
    "#Average Pass Yards Per Attempt, and Average Rush Yards Per Attempt."
   ]
  },
  {
   "cell_type": "code",
   "execution_count": 19,
   "metadata": {},
   "outputs": [],
   "source": [
    "import pandas as pd"
   ]
  },
  {
   "cell_type": "code",
   "execution_count": 20,
   "metadata": {},
   "outputs": [],
   "source": [
    "import random"
   ]
  },
  {
   "cell_type": "code",
   "execution_count": 21,
   "metadata": {},
   "outputs": [],
   "source": [
    "#read csv files:\n",
    "modelDF = pd.read_csv(r\"C:\\Users\\comic\\NFL-Predictor\\Model\\model1.csv\")\n",
    "gameDF = pd.read_csv(r\"C:\\Users\\comic\\NFL-Predictor\\Data\\Train-Data\\Matchups\\MatchUp1998.csv\")"
   ]
  },
  {
   "cell_type": "code",
   "execution_count": 22,
   "metadata": {},
   "outputs": [],
   "source": [
    "right = 0\n",
    "wrong = 0\n"
   ]
  },
  {
   "cell_type": "code",
   "execution_count": 24,
   "metadata": {},
   "outputs": [],
   "source": [
    "for i in range(len(modelDF[\"T1\"])):\n",
    "    if gameDF[\"T1 Outcome\"][i] == modelDF['T1 Outcome'][i]:\n",
    "        right+=1\n",
    "    else:\n",
    "        wrong+=1\n"
   ]
  },
  {
   "cell_type": "code",
   "execution_count": 25,
   "metadata": {},
   "outputs": [
    {
     "name": "stdout",
     "output_type": "stream",
     "text": [
      "64.58333333333334%\n"
     ]
    }
   ],
   "source": [
    "print(str((right/(right+wrong))*100)+\"%\")"
   ]
  },
  {
   "cell_type": "code",
   "execution_count": null,
   "metadata": {},
   "outputs": [],
   "source": [
    "#For our first prediction we get almost 65%, pretty good for only using 4 stats!"
   ]
  }
 ],
 "metadata": {
  "kernelspec": {
   "display_name": "Python 3",
   "language": "python",
   "name": "python3"
  },
  "language_info": {
   "codemirror_mode": {
    "name": "ipython",
    "version": 3
   },
   "file_extension": ".py",
   "mimetype": "text/x-python",
   "name": "python",
   "nbconvert_exporter": "python",
   "pygments_lexer": "ipython3",
   "version": "3.7.4"
  }
 },
 "nbformat": 4,
 "nbformat_minor": 4
}
